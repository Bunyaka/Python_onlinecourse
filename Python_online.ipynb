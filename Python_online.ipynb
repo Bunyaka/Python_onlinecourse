{
 "cells": [
  {
   "cell_type": "code",
   "execution_count": 2,
   "metadata": {},
   "outputs": [
    {
     "name": "stdout",
     "output_type": "stream",
     "text": [
      "Enter your name: Bunyod\n",
      "Hello, Bunyod\n"
     ]
    }
   ],
   "source": [
    "name = input(\"Enter your name: \")\n",
    "print(\"Hello,\", name)"
   ]
  },
  {
   "cell_type": "code",
   "execution_count": 1,
   "metadata": {},
   "outputs": [
    {
     "name": "stdout",
     "output_type": "stream",
     "text": [
      "What is your name?Bunyod\n",
      "Bunyod\n"
     ]
    }
   ],
   "source": [
    "your_name = input(\"What is your name?\")\n",
    "print(your_name)"
   ]
  },
  {
   "cell_type": "code",
   "execution_count": 2,
   "metadata": {},
   "outputs": [
    {
     "name": "stdout",
     "output_type": "stream",
     "text": [
      "Enter your name. \n",
      "\tEnter your name below. aloha\n",
      "aloha\n"
     ]
    }
   ],
   "source": [
    "name = input(\"Enter your name. \\n\\tEnter your name below. \")\n",
    "print(name)"
   ]
  },
  {
   "cell_type": "code",
   "execution_count": 3,
   "metadata": {},
   "outputs": [
    {
     "name": "stdout",
     "output_type": "stream",
     "text": [
      "3 things can happen to your code.\n",
      "it either works or it doesnt work.\n"
     ]
    }
   ],
   "source": [
    "things_can_happen = 3\n",
    "\n",
    "x = f\"{things_can_happen} things can happen to your code.\"\n",
    "\n",
    "scenario_1 = \"works\"\n",
    "scenario_2 = \"doesnt work\"\n",
    "\n",
    "y = f\"it either {scenario_1} or it {scenario_2}.\"\n",
    "\n",
    "print(x)\n",
    "print(y)"
   ]
  },
  {
   "cell_type": "code",
   "execution_count": null,
   "metadata": {},
   "outputs": [],
   "source": []
  }
 ],
 "metadata": {
  "kernelspec": {
   "display_name": "Python 3",
   "language": "python",
   "name": "python3"
  },
  "language_info": {
   "codemirror_mode": {
    "name": "ipython",
    "version": 3
   },
   "file_extension": ".py",
   "mimetype": "text/x-python",
   "name": "python",
   "nbconvert_exporter": "python",
   "pygments_lexer": "ipython3",
   "version": "3.8.5"
  }
 },
 "nbformat": 4,
 "nbformat_minor": 4
}
