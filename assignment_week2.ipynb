{
 "cells": [
  {
   "cell_type": "code",
   "execution_count": 2,
   "metadata": {},
   "outputs": [
    {
     "name": "stdout",
     "output_type": "stream",
     "text": [
      "What would you like to cook on weekend?\n",
      "Here are the options:\n",
      "1. Minced Meat Soup\n",
      "2. Sunday Soup\n",
      "3. Gulas\n",
      "2\n",
      "Buy chicken with bones, noodles, soup vegetable.\n"
     ]
    }
   ],
   "source": [
    "mm_soup = 'minced meat, potatoes, frozen vegetable'\n",
    "sunday_soup = 'chicken with bones, noodles, soup vegetable'\n",
    "gulas = 'meat, food cream, potatoes, onion, frozen peas'\n",
    "\n",
    "print (\"What would you like to cook on weekend?\")\n",
    "print (\"Here are the options:\")\n",
    "print (\"1. Minced Meat Soup\")\n",
    "print (\"2. Sunday Soup\")\n",
    "print (\"3. Gulas\")\n",
    "\n",
    "choose = int(input())\n",
    "\n",
    "if choose == 1:\n",
    "    print (\"Buy {}.\".format(mm_soup))\n",
    "\n",
    "elif choose == 2:\n",
    "    print (\"Buy {}.\".format(sunday_soup))\n",
    "\n",
    "elif choose == 3:\n",
    "    print (\"Buy {}.\".format(gulas))\n",
    "\n",
    "else:\n",
    "    print (\"Hmmm. No such food on the list.\")"
   ]
  },
  {
   "cell_type": "code",
   "execution_count": null,
   "metadata": {},
   "outputs": [],
   "source": []
  }
 ],
 "metadata": {
  "kernelspec": {
   "display_name": "Python 3",
   "language": "python",
   "name": "python3"
  },
  "language_info": {
   "codemirror_mode": {
    "name": "ipython",
    "version": 3
   },
   "file_extension": ".py",
   "mimetype": "text/x-python",
   "name": "python",
   "nbconvert_exporter": "python",
   "pygments_lexer": "ipython3",
   "version": "3.8.5"
  }
 },
 "nbformat": 4,
 "nbformat_minor": 4
}
